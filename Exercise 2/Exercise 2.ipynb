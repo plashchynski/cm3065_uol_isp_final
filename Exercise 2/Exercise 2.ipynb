{
 "cells": [
  {
   "cell_type": "markdown",
   "metadata": {},
   "source": [
    "# Exercise 2"
   ]
  },
  {
   "cell_type": "markdown",
   "metadata": {},
   "source": [
    "Install necessary packages:"
   ]
  },
  {
   "cell_type": "code",
   "execution_count": 1,
   "metadata": {},
   "outputs": [
    {
     "name": "stdout",
     "output_type": "stream",
     "text": [
      "Requirement already satisfied: tabulate in /Users/dima/miniconda3/lib/python3.11/site-packages (0.9.0)\n",
      "Requirement already satisfied: matplotlib in /Users/dima/miniconda3/lib/python3.11/site-packages (3.7.2)\n",
      "Requirement already satisfied: numpy in /Users/dima/miniconda3/lib/python3.11/site-packages (1.25.2)\n",
      "Requirement already satisfied: contourpy>=1.0.1 in /Users/dima/miniconda3/lib/python3.11/site-packages (from matplotlib) (1.1.0)\n",
      "Requirement already satisfied: cycler>=0.10 in /Users/dima/miniconda3/lib/python3.11/site-packages (from matplotlib) (0.11.0)\n",
      "Requirement already satisfied: fonttools>=4.22.0 in /Users/dima/miniconda3/lib/python3.11/site-packages (from matplotlib) (4.42.1)\n",
      "Requirement already satisfied: kiwisolver>=1.0.1 in /Users/dima/miniconda3/lib/python3.11/site-packages (from matplotlib) (1.4.5)\n",
      "Requirement already satisfied: packaging>=20.0 in /Users/dima/miniconda3/lib/python3.11/site-packages (from matplotlib) (23.0)\n",
      "Requirement already satisfied: pillow>=6.2.0 in /Users/dima/miniconda3/lib/python3.11/site-packages (from matplotlib) (10.0.0)\n",
      "Requirement already satisfied: pyparsing<3.1,>=2.3.1 in /Users/dima/miniconda3/lib/python3.11/site-packages (from matplotlib) (3.0.9)\n",
      "Requirement already satisfied: python-dateutil>=2.7 in /Users/dima/miniconda3/lib/python3.11/site-packages (from matplotlib) (2.8.2)\n",
      "Requirement already satisfied: six>=1.5 in /Users/dima/miniconda3/lib/python3.11/site-packages (from python-dateutil>=2.7->matplotlib) (1.16.0)\n",
      "Note: you may need to restart the kernel to use updated packages.\n"
     ]
    }
   ],
   "source": [
    "%pip install tabulate matplotlib numpy"
   ]
  },
  {
   "cell_type": "code",
   "execution_count": 2,
   "metadata": {},
   "outputs": [
    {
     "name": "stderr",
     "output_type": "stream",
     "text": [
      "/Users/dima/miniconda3/lib/python3.11/site-packages/tqdm/auto.py:21: TqdmWarning: IProgress not found. Please update jupyter and ipywidgets. See https://ipywidgets.readthedocs.io/en/stable/user_install.html\n",
      "  from .autonotebook import tqdm as notebook_tqdm\n"
     ]
    }
   ],
   "source": [
    "import os\n",
    "from tqdm.auto import tqdm\n",
    "\n",
    "import numpy as np\n",
    "from matplotlib import pyplot as plt\n",
    "import tabulate"
   ]
  },
  {
   "cell_type": "markdown",
   "metadata": {},
   "source": [
    "## Rice encoding and decoding functions"
   ]
  },
  {
   "cell_type": "code",
   "execution_count": 3,
   "metadata": {},
   "outputs": [],
   "source": [
    "def rice_encode(number, k) -> str:\n",
    "    \"\"\"\n",
    "    Rice encode a number n with parameter k.\n",
    "\n",
    "    Input:\n",
    "        number: the number to be encoded\n",
    "        k: the parameter of the Rice code (k >= 0)\n",
    "\n",
    "    The idea is to split the number into two parts: the quotient and the remainder.\n",
    "    The quotient is encoded as a unary number, and the remainder is encoded as a binary number.\n",
    "    \"\"\"\n",
    "    quotient = number >> k\n",
    "    remainder = number & ((1 << k) - 1)\n",
    "\n",
    "    return '1' * quotient + '0' + format(remainder, '0' + str(k) + 'b')"
   ]
  },
  {
   "cell_type": "code",
   "execution_count": 4,
   "metadata": {},
   "outputs": [],
   "source": [
    "def rice_decode(code, k) -> int:\n",
    "    \"\"\"\n",
    "    Rice decode a code with parameter k.\n",
    "\n",
    "    Input:\n",
    "        code: the Rice code to be decoded\n",
    "        k: the parameter of the Rice code (k >= 0)\n",
    "    \n",
    "    The idea is to find the first 0 in the code. The number of 1s before the 0 is the quotient,\n",
    "    and the k bits after the 0 is the remainder.\n",
    "    \"\"\"\n",
    "    quotient = code.find('0')\n",
    "    remainder = int(code[quotient + 1:quotient + 1 + k], 2)\n",
    "    return (quotient << k) + remainder"
   ]
  },
  {
   "cell_type": "markdown",
   "metadata": {},
   "source": [
    "Test encode and decode functions:"
   ]
  },
  {
   "cell_type": "code",
   "execution_count": 5,
   "metadata": {},
   "outputs": [],
   "source": [
    "assert rice_decode(rice_encode(100, 3), 3) == 100"
   ]
  },
  {
   "cell_type": "markdown",
   "metadata": {},
   "source": [
    "Should also work with any number of zeros padded to the right:"
   ]
  },
  {
   "cell_type": "code",
   "execution_count": 6,
   "metadata": {},
   "outputs": [],
   "source": [
    "assert rice_decode(rice_encode(100, 3).ljust(100, '0'), 3) == 100"
   ]
  },
  {
   "cell_type": "markdown",
   "metadata": {},
   "source": [
    "## Helper functions"
   ]
  },
  {
   "cell_type": "code",
   "execution_count": 7,
   "metadata": {},
   "outputs": [],
   "source": [
    "def bits_to_bytes(bit_string:str) -> bytes:\n",
    "    \"\"\"\n",
    "    Convert a string of bits to a bytes object.\n",
    "    \"\"\"\n",
    "    padded = bit_string + '0' * ((8 - len(bit_string) % 8) % 8)\n",
    "    return bytes(int(padded[i:i+8], 2) for i in range(0, len(padded), 8))"
   ]
  },
  {
   "cell_type": "code",
   "execution_count": 8,
   "metadata": {},
   "outputs": [],
   "source": [
    "def bytes_to_bits(byte_data:bytearray) -> str:\n",
    "    \"\"\"\n",
    "    Convert a bytes object to a string of bits.\n",
    "    \"\"\"\n",
    "    return ''.join(format(byte, '08b') for byte in byte_data)"
   ]
  },
  {
   "cell_type": "markdown",
   "metadata": {},
   "source": [
    "Test helper functions:"
   ]
  },
  {
   "cell_type": "code",
   "execution_count": 9,
   "metadata": {},
   "outputs": [],
   "source": [
    "number = 100500\n",
    "\n",
    "# Generate a bit string from a number\n",
    "bit_string = bin(number)[2:]\n",
    "\n",
    "# Add padding to the bit string\n",
    "padding = (8 - len(bit_string) % 8) % 8\n",
    "bit_string = bit_string.zfill(len(bit_string) + padding)\n",
    "\n",
    "bits = bytes_to_bits(bits_to_bytes(bit_string))\n",
    "\n",
    "assert int(bits, 2) == number"
   ]
  },
  {
   "cell_type": "markdown",
   "metadata": {},
   "source": [
    "## Encode a file"
   ]
  },
  {
   "cell_type": "code",
   "execution_count": 10,
   "metadata": {},
   "outputs": [],
   "source": [
    "def encode_file(input_file, output_file, k):\n",
    "    \"\"\"\n",
    "    Encode a file using Rice encoding with parameter k.\n",
    "    \"\"\"\n",
    "\n",
    "    # Read input file\n",
    "    with open(input_file, 'rb') as file:\n",
    "        input_data = file.read()\n",
    "\n",
    "    # Convert input_data to a Rice encoded bit string\n",
    "    bit_string = ''.join([rice_encode(n, k) for n in input_data])\n",
    "\n",
    "    # Add padding to the right of the bit string\n",
    "    # to make it divisible by 8 and convetable to a bytes object\n",
    "    padding = (8 - len(bit_string) % 8) % 8\n",
    "    bit_string = bit_string.ljust(len(bit_string) + padding, '0')\n",
    "\n",
    "    encoded_data = bits_to_bytes(bit_string)\n",
    "\n",
    "    # Save to the output file\n",
    "    with open(output_file, 'wb') as file:\n",
    "        file.write(encoded_data)"
   ]
  },
  {
   "cell_type": "code",
   "execution_count": 11,
   "metadata": {},
   "outputs": [],
   "source": [
    "def decoded_file(input_file, output_file, k):\n",
    "    \"\"\"\n",
    "    Decode a file using Rice encoding with parameter k.\n",
    "    \"\"\"\n",
    "    # Read input file\n",
    "    with open(input_file, 'rb') as file:\n",
    "        input_data = file.read()\n",
    "\n",
    "    # Convert input_data to a bit string\n",
    "    bit_string = bytes_to_bits(input_data)\n",
    "\n",
    "    # decode\n",
    "    decoded_data = []\n",
    "    start = 0\n",
    "    while start < len(bit_string):\n",
    "        # Find the next 0 in the bit string\n",
    "        q = bit_string.find('0', start)\n",
    "\n",
    "        # If there is no 0 or there is no k bits after the 0\n",
    "        if q == -1 or q + k >= len(bit_string):\n",
    "            break\n",
    "\n",
    "        # Rice decode a chunk of the bit string\n",
    "        value = rice_decode(bit_string[start:q + k + 1], k)\n",
    "\n",
    "        decoded_data.append(value)\n",
    "\n",
    "        # Move the start pointer to the next chunk\n",
    "        start = q + k + 1\n",
    "\n",
    "    # Save decoded data to the output file\n",
    "    with open(output_file, 'wb') as file:\n",
    "        file.write(bytes(decoded_data))"
   ]
  },
  {
   "cell_type": "markdown",
   "metadata": {},
   "source": [
    "## Processing"
   ]
  },
  {
   "cell_type": "code",
   "execution_count": 12,
   "metadata": {},
   "outputs": [],
   "source": [
    "FILES = [\"Sound1.wav\", \"Sound2.wav\"]\n",
    "\n",
    "table_data = []\n",
    "\n",
    "for file in FILES:\n",
    "    sample_name = os.path.splitext(os.path.basename(file))[0]\n",
    "\n",
    "    original_size = os.path.getsize(file)\n",
    "    output_file_name = sample_name + '_Enc.ex2'\n",
    "\n",
    "    # Encode the file with k = 4\n",
    "    encode_file(file, output_file_name, 4)\n",
    "    encoded_4_size = os.path.getsize(output_file_name)\n",
    "\n",
    "    # Decode the file\n",
    "    decoded_output_file_name = sample_name + '_Enc_Dec.wav'\n",
    "    decoded_file(output_file_name, decoded_output_file_name, 4)\n",
    "\n",
    "    # Encode the file with k = 2 \n",
    "    encode_file(file, output_file_name, 2)\n",
    "    encoded_2_size = os.path.getsize(output_file_name)\n",
    "\n",
    "    # Decode the file\n",
    "    decoded_output_file_name = sample_name + '_Enc_Dec.wav'\n",
    "    decoded_file(output_file_name, decoded_output_file_name, 2)\n",
    "\n",
    "    # Calculate compression percentage for k = 4 and k = 2\n",
    "    compression_percentage_4 = (1 - encoded_4_size / original_size) * 100\n",
    "    compression_percentage_2 = (1 - encoded_2_size / original_size) * 100\n",
    "\n",
    "    # Save the results\n",
    "    table_data.append([file, original_size, encoded_4_size, encoded_2_size, compression_percentage_4, compression_percentage_2])"
   ]
  },
  {
   "cell_type": "markdown",
   "metadata": {},
   "source": [
    "## Display the results"
   ]
  },
  {
   "cell_type": "code",
   "execution_count": 13,
   "metadata": {},
   "outputs": [
    {
     "data": {
      "text/html": [
       "<table>\n",
       "<thead>\n",
       "<tr><th>          </th><th style=\"text-align: right;\">  Original size</th><th style=\"text-align: right;\">  Rice (K = 4 bits)</th><th style=\"text-align: right;\">  Rice (K = 2 bits)</th><th style=\"text-align: right;\">  % Compression (K = 4 bits)</th><th style=\"text-align: right;\">  % Compression (K = 2 bits)</th></tr>\n",
       "</thead>\n",
       "<tbody>\n",
       "<tr><td>Sound1.wav</td><td style=\"text-align: right;\">        1002088</td><td style=\"text-align: right;\">            1516265</td><td style=\"text-align: right;\">            4115718</td><td style=\"text-align: right;\">                    -51.3106</td><td style=\"text-align: right;\">                    -310.714</td></tr>\n",
       "<tr><td>Sound2.wav</td><td style=\"text-align: right;\">        1008044</td><td style=\"text-align: right;\">            1575347</td><td style=\"text-align: right;\">            4348595</td><td style=\"text-align: right;\">                    -56.2776</td><td style=\"text-align: right;\">                    -331.389</td></tr>\n",
       "</tbody>\n",
       "</table>"
      ],
      "text/plain": [
       "'<table>\\n<thead>\\n<tr><th>          </th><th style=\"text-align: right;\">  Original size</th><th style=\"text-align: right;\">  Rice (K = 4 bits)</th><th style=\"text-align: right;\">  Rice (K = 2 bits)</th><th style=\"text-align: right;\">  % Compression (K = 4 bits)</th><th style=\"text-align: right;\">  % Compression (K = 2 bits)</th></tr>\\n</thead>\\n<tbody>\\n<tr><td>Sound1.wav</td><td style=\"text-align: right;\">        1002088</td><td style=\"text-align: right;\">            1516265</td><td style=\"text-align: right;\">            4115718</td><td style=\"text-align: right;\">                    -51.3106</td><td style=\"text-align: right;\">                    -310.714</td></tr>\\n<tr><td>Sound2.wav</td><td style=\"text-align: right;\">        1008044</td><td style=\"text-align: right;\">            1575347</td><td style=\"text-align: right;\">            4348595</td><td style=\"text-align: right;\">                    -56.2776</td><td style=\"text-align: right;\">                    -331.389</td></tr>\\n</tbody>\\n</table>'"
      ]
     },
     "execution_count": 13,
     "metadata": {},
     "output_type": "execute_result"
    }
   ],
   "source": [
    "table = tabulate.tabulate(table_data,  tablefmt='html', headers=[\"\", \"Original size\", \"Rice (K = 4 bits)\", \"Rice (K = 2 bits)\", \"% Compression (K = 4 bits)\", \"% Compression (K = 2 bits)\"])\n",
    "table"
   ]
  },
  {
   "cell_type": "markdown",
   "metadata": {},
   "source": [
    "## Further development"
   ]
  },
  {
   "cell_type": "markdown",
   "metadata": {},
   "source": [
    "For further development, I would like to explore how K-parameter affects the compression ratio. I ran the program with different K values and plot the compression ratio against K. The result is shown below:"
   ]
  },
  {
   "cell_type": "code",
   "execution_count": 14,
   "metadata": {},
   "outputs": [
    {
     "name": "stderr",
     "output_type": "stream",
     "text": [
      "100%|██████████| 20/20 [00:10<00:00,  2.00it/s]\n"
     ]
    }
   ],
   "source": [
    "# Generate a list of numbers from 2 to 21\n",
    "Ks = range(2, 22)\n",
    "\n",
    "results = []\n",
    "\n",
    "for k in tqdm(Ks):\n",
    "    # Encode the file with k\n",
    "    output_file_name = \"Sound1_Enc.ex2\"\n",
    "    encode_file(\"Sound1.wav\", output_file_name, k)\n",
    "    encoded_size = os.path.getsize(output_file_name)\n",
    "\n",
    "    # Calculate compression percentage\n",
    "    compression_percentage = (1 - encoded_size / original_size) * 100\n",
    "\n",
    "    # Save the results\n",
    "    results.append([k, compression_percentage])\n",
    "\n",
    "results = np.array(results)"
   ]
  },
  {
   "cell_type": "markdown",
   "metadata": {},
   "source": [
    "Plot the results:"
   ]
  },
  {
   "cell_type": "code",
   "execution_count": 15,
   "metadata": {},
   "outputs": [
    {
     "data": {
      "text/plain": [
       "[<matplotlib.lines.Line2D at 0x14ad42e50>]"
      ]
     },
     "execution_count": 15,
     "metadata": {},
     "output_type": "execute_result"
    },
    {
     "data": {
      "image/png": "[encoded data removed]",
      "text/plain": [
       "<Figure size 640x480 with 1 Axes>"
      ]
     },
     "metadata": {},
     "output_type": "display_data"
    }
   ],
   "source": [
    "plt.title('Compression percentage vs K')\n",
    "plt.xlabel('K')\n",
    "plt.ylabel('% Compression')\n",
    "plt.plot(results[:, 0], results[:, 1])"
   ]
  },
  {
   "cell_type": "markdown",
   "metadata": {},
   "source": [
    "Unfortunately, the compression ratio does not seem to be higher than 1 for any K value. The overhead of the encoding is too large compared to the file size."
   ]
  }
 ],
 "metadata": {
  "kernelspec": {
   "display_name": "base",
   "language": "python",
   "name": "python3"
  },
  "language_info": {
   "codemirror_mode": {
    "name": "ipython",
    "version": 3
   },
   "file_extension": ".py",
   "mimetype": "text/x-python",
   "name": "python",
   "nbconvert_exporter": "python",
   "pygments_lexer": "ipython3",
   "version": "3.11.4"
  },
  "orig_nbformat": 4
 },
 "nbformat": 4,
 "nbformat_minor": 2
}
