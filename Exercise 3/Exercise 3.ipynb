{
 "cells": [
  {
   "cell_type": "markdown",
   "metadata": {},
   "source": [
    "# Exercise 3"
   ]
  },
  {
   "cell_type": "markdown",
   "metadata": {},
   "source": [
    "Check if ffmpeg is installed, if not install it using [Homebrew](https://brew.sh/):"
   ]
  },
  {
   "cell_type": "code",
   "execution_count": 2,
   "metadata": {},
   "outputs": [
    {
     "name": "stdout",
     "output_type": "stream",
     "text": [
      "Collecting ffmpeg-python\n",
      "  Using cached ffmpeg_python-0.2.0-py3-none-any.whl (25 kB)\n",
      "Collecting future (from ffmpeg-python)\n",
      "  Using cached future-0.18.3.tar.gz (840 kB)\n",
      "  Preparing metadata (setup.py) ... \u001b[?25ldone\n",
      "\u001b[?25hBuilding wheels for collected packages: future\n",
      "  Building wheel for future (setup.py) ... \u001b[?25ldone\n",
      "\u001b[?25h  Created wheel for future: filename=future-0.18.3-py3-none-any.whl size=492025 sha256=069b52a27b345121ea363c906dd237f824f4779ab20bd2d63b80376e2bf40a4c\n",
      "  Stored in directory: /Users/dima/Library/Caches/pip/wheels/da/19/ca/9d8c44cd311a955509d7e13da3f0bea42400c469ef825b580b\n",
      "Successfully built future\n",
      "Installing collected packages: future, ffmpeg-python\n",
      "Successfully installed ffmpeg-python-0.2.0 future-0.18.3\n"
     ]
    }
   ],
   "source": [
    "exist = !which ffmpeg\n",
    "if not exist:\n",
    "    !brew install ffmpeg\n",
    "\n",
    "!pip install ffmpeg-python"
   ]
  },
  {
   "cell_type": "code",
   "execution_count": 32,
   "metadata": {},
   "outputs": [],
   "source": [
    "import glob\n",
    "import ffmpeg\n",
    "from math import gcd "
   ]
  },
  {
   "cell_type": "markdown",
   "metadata": {},
   "source": [
    "## Helper functions"
   ]
  },
  {
   "cell_type": "code",
   "execution_count": 36,
   "metadata": {},
   "outputs": [],
   "source": [
    "def calculate_aspect_ratio(width:int, height:int) -> str:\n",
    "    \"\"\"Calculate the video aspect ratio from width and height.\"\"\"\n",
    "    \n",
    "    # Find the greatest common divisor of the width and height\n",
    "    divisor = gcd(width, height)\n",
    "    \n",
    "    # Calculate the simplest form of the aspect ratio\n",
    "    x = width // divisor\n",
    "    y = height // divisor\n",
    "    \n",
    "    # Return a string representation of the aspect ratio\n",
    "    return f\"{x}:{y}\""
   ]
  },
  {
   "cell_type": "code",
   "execution_count": 42,
   "metadata": {},
   "outputs": [],
   "source": [
    "def bit_rate_to_mbps(bit_rate:int) -> str:\n",
    "    \"\"\"Convert a bit rate in bits per second to megabits per second.\"\"\"\n",
    "    \n",
    "    # Convert the bit rate to megabits per second\n",
    "    mbps = bit_rate / 1000000\n",
    "    \n",
    "    # Return a string representation of the megabits per second\n",
    "    return f\"{mbps} Mb/s\""
   ]
  },
  {
   "cell_type": "code",
   "execution_count": 46,
   "metadata": {},
   "outputs": [],
   "source": [
    "def bit_rate_to_kbps(bit_rate:int) -> str:\n",
    "    \"\"\"Convert a bit rate in bits per second to kilobits per second.\"\"\"\n",
    "    \n",
    "    # Convert the bit rate to kilobits per second\n",
    "    kbps = bit_rate / 1000\n",
    "    \n",
    "    # Return a string representation of the kilobits per second\n",
    "    return f\"{kbps} Kb/s\""
   ]
  },
  {
   "cell_type": "markdown",
   "metadata": {},
   "source": [
    "## Process files"
   ]
  },
  {
   "cell_type": "code",
   "execution_count": 49,
   "metadata": {},
   "outputs": [
    {
     "name": "stdout",
     "output_type": "stream",
     "text": [
      "file: Exercise3_Films/Last_man_on_earth_1964.mov\n",
      "Wrong video codec: prores\n",
      "Wrong audio codec: pcm_s16le\n",
      "Wrong frame rate: 24000/1001\n",
      "Wrong video bitrate: 9.285191 Mb/s\n",
      "Wrong audio bitrate: 1536.0 Kb/s\n",
      "\n",
      "\n",
      "file: Exercise3_Films/Voyage_to_the_Planet_of_Prehistoric_Women.mp4\n",
      "Wrong video codec: hevc\n",
      "Wrong audio codec: mp3\n",
      "Wrong frame rate: 30000/1001\n",
      "Wrong video bitrate: 8.038857 Mb/s\n",
      "Wrong audio bitrate: 320.0 Kb/s\n",
      "\n",
      "\n",
      "file: Exercise3_Films/The_Gun_and_the_Pulpit.avi\n",
      "Wrong container format: avi\n",
      "Wrong video codec: rawvideo\n",
      "Wrong audio codec: pcm_s16le\n",
      "Wrong frame rate: 25/1\n",
      "Wrong aspect ratio: 180:101\n",
      "Wrong resolution: 720x404\n",
      "Wrong video bitrate: 87.438878 Mb/s\n",
      "Wrong audio bitrate: 1536.0 Kb/s\n",
      "\n",
      "\n",
      "file: Exercise3_Films/Cosmos_War_of_the_Planets.mp4\n",
      "Wrong frame rate: 30000/1001\n",
      "Wrong aspect ratio: 314:177\n",
      "Wrong resolution: 628x354\n",
      "Wrong audio bitrate: 317.103 Kb/s\n",
      "\n",
      "\n",
      "file: Exercise3_Films/The_Hill_Gang_Rides_Again.mp4\n",
      "Wrong frame rate: 25/1\n",
      "Wrong video bitrate: 7.53773 Mb/s\n",
      "\n",
      "\n"
     ]
    }
   ],
   "source": [
    "for file in glob.glob(\"Exercise3_Films/*\"):\n",
    "    probe_data = ffmpeg.probe(file)\n",
    "    print(\"file: \" + file)\n",
    "\n",
    "    # extract metadata about the video stream\n",
    "    video_stream = next((stream for stream in probe_data['streams'] if stream['codec_type'] == 'video'), None)\n",
    "\n",
    "    # extract metadata about the audio stream\n",
    "    audio_strem = next((stream for stream in probe_data['streams'] if stream['codec_type'] == 'audio'), None)\n",
    "\n",
    "    # check if the container format is mp4\n",
    "    if not probe_data['format']['format_name'] == \"mov,mp4,m4a,3gp,3g2,mj2\":\n",
    "        print(\"Wrong container format: \" + probe_data['format']['format_name'])\n",
    "    \n",
    "    # check if the video codec is h264\n",
    "    if not video_stream['codec_name'] == \"h264\":\n",
    "        print(\"Wrong video codec: \" + probe_data['streams'][0]['codec_name'])\n",
    "    \n",
    "    # check if the audio codec is aac\n",
    "    if not audio_strem['codec_name'] == \"aac\":\n",
    "        print(\"Wrong audio codec: \" + probe_data['streams'][1]['codec_name'])\n",
    "\n",
    "    # check if frame rate is 24\n",
    "    if not video_stream['r_frame_rate'] == \"24/1\":\n",
    "        print(\"Wrong frame rate: \" + video_stream['r_frame_rate'])\n",
    "    \n",
    "    # check if the video aspect ratio is 16:9\n",
    "    aspect_ratio = video_stream.get('display_aspect_ratio')\n",
    "    if not aspect_ratio:\n",
    "        aspect_ratio = calculate_aspect_ratio(int(video_stream['width']), int(video_stream['height']))\n",
    "\n",
    "    if not aspect_ratio == \"16:9\":\n",
    "        print(\"Wrong aspect ratio: \" + aspect_ratio)\n",
    "    \n",
    "    # check if the video resolution is 640x360\n",
    "    if not int(video_stream['width']) == 640 or not int(video_stream['height']) == 360:\n",
    "        print(f\"Wrong resolution: {video_stream['width']}x{video_stream['height']}\")\n",
    "\n",
    "    # check if the video bitrate is 2 – 5 Mb/s\n",
    "    video_bit_rate = int(video_stream['bit_rate'])\n",
    "    if not 2000000 <= video_bit_rate <= 5000000:\n",
    "        print(\"Wrong video bitrate: \" + bit_rate_to_mbps(video_bit_rate))\n",
    "\n",
    "    # check if the audio bitrate is up to 256 kb/s\n",
    "    audio_bit_rate = int(audio_strem['bit_rate'])\n",
    "    if not audio_bit_rate <= 256000:\n",
    "        print(\"Wrong audio bitrate: \" + bit_rate_to_kbps(audio_bit_rate))\n",
    "\n",
    "    # check if the audio channel is stereo\n",
    "    if not audio_strem['channels'] == 2:\n",
    "        print(\"Audio channel is not stereo, a number of channels: \" + str(audio_strem['channels']))\n",
    "\n",
    "    print(\"\\n\")\n"
   ]
  },
  {
   "cell_type": "code",
   "execution_count": null,
   "metadata": {},
   "outputs": [],
   "source": []
  }
 ],
 "metadata": {
  "kernelspec": {
   "display_name": "base",
   "language": "python",
   "name": "python3"
  },
  "language_info": {
   "codemirror_mode": {
    "name": "ipython",
    "version": 3
   },
   "file_extension": ".py",
   "mimetype": "text/x-python",
   "name": "python",
   "nbconvert_exporter": "python",
   "pygments_lexer": "ipython3",
   "version": "3.11.4"
  },
  "orig_nbformat": 4
 },
 "nbformat": 4,
 "nbformat_minor": 2
}
