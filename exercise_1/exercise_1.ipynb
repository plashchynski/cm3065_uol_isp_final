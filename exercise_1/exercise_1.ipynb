{
 "cells": [
  {
   "cell_type": "code",
   "execution_count": 1,
   "metadata": {},
   "outputs": [
    {
     "name": "stdout",
     "output_type": "stream",
     "text": [
      "Requirement already satisfied: opencv-python in /Users/dima/miniconda3/lib/python3.11/site-packages (4.8.0.76)\n",
      "Requirement already satisfied: numpy>=1.21.2 in /Users/dima/miniconda3/lib/python3.11/site-packages (from opencv-python) (1.25.1)\n",
      "Note: you may need to restart the kernel to use updated packages.\n"
     ]
    }
   ],
   "source": [
    "%pip install opencv-python"
   ]
  },
  {
   "cell_type": "markdown",
   "metadata": {},
   "source": [
    "# Task 1"
   ]
  },
  {
   "cell_type": "markdown",
   "metadata": {},
   "source": [
    "Import OpenCV library:"
   ]
  },
  {
   "cell_type": "code",
   "execution_count": 2,
   "metadata": {},
   "outputs": [],
   "source": [
    "import cv2"
   ]
  },
  {
   "cell_type": "code",
   "execution_count": 19,
   "metadata": {},
   "outputs": [],
   "source": [
    "# The higher the value, the bigger a moving object should be to be detected\n",
    "MIN_CONTOUR_AREA = 2500"
   ]
  },
  {
   "cell_type": "code",
   "execution_count": 20,
   "metadata": {},
   "outputs": [],
   "source": [
    "# Open the sample video file:\n",
    "video = cv2.VideoCapture(\"Traffic_Laramie_1.mp4\")\n",
    "\n",
    "# Ensure that the file was opened correctly:\n",
    "assert video.isOpened(), \"Can't open the video file\"\n",
    "\n",
    "# Initialize an instance of [K-nearest neighbours - based Background/Foreground Segmentation Algorithm](https://docs.opencv.org/3.4/db/d88/classcv_1_1BackgroundSubtractorKNN.html):\n",
    "bg_subtractor = cv2.createBackgroundSubtractorKNN(detectShadows = False)\n",
    "\n",
    "cv2.namedWindow(\"Cam\")\n",
    "\n",
    "# Read the video frame by frame:\n",
    "while True:\n",
    "    ret, frame = video.read()\n",
    "\n",
    "    # Check for the last frame\n",
    "    if not ret:\n",
    "        break\n",
    "\n",
    "    # Apply the background subtraction algorithm:\n",
    "    foreground_mask = bg_subtractor.apply(frame)\n",
    "\n",
    "    # Find the contours of the detected objects:\n",
    "    contours, _ = cv2.findContours(foreground_mask, cv2.RETR_EXTERNAL, cv2.CHAIN_APPROX_SIMPLE)\n",
    "\n",
    "    for contour in contours:\n",
    "        (x, y, w, h) = cv2.boundingRect(contour)\n",
    "\n",
    "        # Filter out the small contours\n",
    "        if cv2.contourArea(contour) < MIN_CONTOUR_AREA:\n",
    "            continue\n",
    "\n",
    "        # Main street is in the lower half of the frame\n",
    "        if y < frame.shape[0] / 2:\n",
    "            continue\n",
    "\n",
    "        # Draw the bounding box around the detected object  \n",
    "        cv2.rectangle(frame, (x, y), (x+w, y+h), (0, 255, 0), 1)\n",
    "\n",
    "    # Display the resulting frame\n",
    "    cv2.imshow(\"Cam\", frame)\n",
    "\n",
    "    # Press \"q\" to exit the loop\n",
    "    if cv2.waitKey(1) & 0xFF == ord(\"q\"):\n",
    "        cv2.destroyWindow(\"Cam\")\n",
    "        cv2.waitKey(1)\n",
    "        break"
   ]
  },
  {
   "cell_type": "code",
   "execution_count": null,
   "metadata": {},
   "outputs": [],
   "source": []
  }
 ],
 "metadata": {
  "kernelspec": {
   "display_name": "base",
   "language": "python",
   "name": "python3"
  },
  "language_info": {
   "codemirror_mode": {
    "name": "ipython",
    "version": 3
   },
   "file_extension": ".py",
   "mimetype": "text/x-python",
   "name": "python",
   "nbconvert_exporter": "python",
   "pygments_lexer": "ipython3",
   "version": "3.11.4"
  },
  "orig_nbformat": 4
 },
 "nbformat": 4,
 "nbformat_minor": 2
}
