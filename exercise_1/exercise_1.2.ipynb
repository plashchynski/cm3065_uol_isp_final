{
 "cells": [
  {
   "cell_type": "markdown",
   "metadata": {},
   "source": [
    "Reload modules every time before executing the Python code typed:"
   ]
  },
  {
   "cell_type": "code",
   "execution_count": 1,
   "metadata": {},
   "outputs": [],
   "source": [
    "%load_ext autoreload\n",
    "%autoreload 2"
   ]
  },
  {
   "cell_type": "markdown",
   "metadata": {},
   "source": [
    "Install necessary packages:"
   ]
  },
  {
   "cell_type": "code",
   "execution_count": 2,
   "metadata": {},
   "outputs": [
    {
     "name": "stdout",
     "output_type": "stream",
     "text": [
      "Requirement already satisfied: opencv-python in /Users/dima/miniconda3/lib/python3.11/site-packages (4.8.0.76)\n",
      "Requirement already satisfied: numpy in /Users/dima/miniconda3/lib/python3.11/site-packages (1.25.2)\n",
      "Requirement already satisfied: scipy in /Users/dima/miniconda3/lib/python3.11/site-packages (1.11.2)\n",
      "Requirement already satisfied: filterpy==1.4.5 in /Users/dima/miniconda3/lib/python3.11/site-packages (1.4.5)\n",
      "Requirement already satisfied: matplotlib in /Users/dima/miniconda3/lib/python3.11/site-packages (from filterpy==1.4.5) (3.7.2)\n",
      "Requirement already satisfied: contourpy>=1.0.1 in /Users/dima/miniconda3/lib/python3.11/site-packages (from matplotlib->filterpy==1.4.5) (1.1.0)\n",
      "Requirement already satisfied: cycler>=0.10 in /Users/dima/miniconda3/lib/python3.11/site-packages (from matplotlib->filterpy==1.4.5) (0.11.0)\n",
      "Requirement already satisfied: fonttools>=4.22.0 in /Users/dima/miniconda3/lib/python3.11/site-packages (from matplotlib->filterpy==1.4.5) (4.42.1)\n",
      "Requirement already satisfied: kiwisolver>=1.0.1 in /Users/dima/miniconda3/lib/python3.11/site-packages (from matplotlib->filterpy==1.4.5) (1.4.5)\n",
      "Requirement already satisfied: packaging>=20.0 in /Users/dima/miniconda3/lib/python3.11/site-packages (from matplotlib->filterpy==1.4.5) (23.0)\n",
      "Requirement already satisfied: pillow>=6.2.0 in /Users/dima/miniconda3/lib/python3.11/site-packages (from matplotlib->filterpy==1.4.5) (10.0.0)\n",
      "Requirement already satisfied: pyparsing<3.1,>=2.3.1 in /Users/dima/miniconda3/lib/python3.11/site-packages (from matplotlib->filterpy==1.4.5) (3.0.9)\n",
      "Requirement already satisfied: python-dateutil>=2.7 in /Users/dima/miniconda3/lib/python3.11/site-packages (from matplotlib->filterpy==1.4.5) (2.8.2)\n",
      "Requirement already satisfied: six>=1.5 in /Users/dima/miniconda3/lib/python3.11/site-packages (from python-dateutil>=2.7->matplotlib->filterpy==1.4.5) (1.16.0)\n",
      "Note: you may need to restart the kernel to use updated packages.\n"
     ]
    }
   ],
   "source": [
    "%pip install opencv-python numpy scipy filterpy==1.4.5"
   ]
  },
  {
   "cell_type": "markdown",
   "metadata": {},
   "source": [
    "# Task 1 (exercise 1.2)"
   ]
  },
  {
   "cell_type": "markdown",
   "metadata": {},
   "source": [
    "Import necessary packages:"
   ]
  },
  {
   "cell_type": "code",
   "execution_count": 3,
   "metadata": {},
   "outputs": [],
   "source": [
    "import cv2\n",
    "import numpy as np\n",
    "from scipy.stats import linregress\n",
    "\n",
    "import sys\n",
    "sys.path.append('./')\n",
    "\n",
    "from sort import Sort"
   ]
  },
  {
   "cell_type": "markdown",
   "metadata": {},
   "source": [
    "The higher the value, the bigger a moving object should be to be detected"
   ]
  },
  {
   "cell_type": "code",
   "execution_count": 4,
   "metadata": {},
   "outputs": [],
   "source": [
    "MIN_CONTOUR_AREA = 4000"
   ]
  },
  {
   "cell_type": "code",
   "execution_count": 25,
   "metadata": {},
   "outputs": [],
   "source": [
    "# Open the sample video file:\n",
    "video = cv2.VideoCapture(\"Traffic_Laramie_1.mp4\")\n",
    "\n",
    "# Ensure that the file was opened correctly:\n",
    "assert video.isOpened(), \"Can't open the video file\"\n",
    "\n",
    "# Initialize an instance of [Gaussian Mixture-based Background/Foreground Segmentation Algorithm](https://docs.opencv.org/3.4/d7/d7b/classcv_1_1BackgroundSubtractorMOG2.html):\n",
    "bg_subtractor = cv2.createBackgroundSubtractorMOG2(detectShadows = False)\n",
    "\n",
    "# Instantiate the SORT tracker\n",
    "tracker = Sort(max_age=5)\n",
    "\n",
    "cv2.namedWindow(\"Cam\")\n",
    "\n",
    "counted_car_ids = set()\n",
    "\n",
    "# Read the video frame by frame:\n",
    "while True:\n",
    "    ret, frame = video.read()\n",
    "\n",
    "    # Check for the last frame\n",
    "    if not ret:\n",
    "        break\n",
    "\n",
    "    # Apply the background subtraction algorithm:\n",
    "    fg_mask = bg_subtractor.apply(frame)\n",
    "\n",
    "    # Morphological operations to remove the noise\n",
    "    kernel = np.ones((4, 4), np.uint8)\n",
    "    morph = cv2.morphologyEx(fg_mask, cv2.MORPH_CLOSE, kernel)\n",
    "    morph = cv2.morphologyEx(morph, cv2.MORPH_OPEN, kernel)\n",
    "\n",
    "    # Find the contours of the detected objects:\n",
    "    contours, _ = cv2.findContours(morph, cv2.RETR_EXTERNAL, cv2.CHAIN_APPROX_SIMPLE)\n",
    "\n",
    "    # Prepare bounding boxes for the tracker\n",
    "    bboxes = []\n",
    "\n",
    "    for contour in contours:\n",
    "        (x, y, w, h) = cv2.boundingRect(contour)\n",
    "\n",
    "        # Filter out the small contours\n",
    "        if cv2.contourArea(contour) < MIN_CONTOUR_AREA:\n",
    "            continue\n",
    "\n",
    "        # Main street is in the lower half of the frame\n",
    "        if y < frame.shape[0] / 2:\n",
    "            continue\n",
    "\n",
    "        bboxes.append([x, y, x+w, y+h])\n",
    "    \n",
    "    if len(bboxes) > 0:\n",
    "        detections = tracker.update(np.array(bboxes))\n",
    "    else:\n",
    "        # sort.py requires to pass a (0, 5)-shaped empty array if no detections were made\n",
    "        detections = tracker.update(np.empty((0, 5)))\n",
    "    \n",
    "    for t in tracker.trackers:\n",
    "        # Check if the car was already counted\n",
    "        # if t.id in counted_car_ids:\n",
    "        #     continue\n",
    "\n",
    "        # Check if the car has any position history\n",
    "        # if not t.history:\n",
    "        #     continue\n",
    "        \n",
    "        # # Check if the car is near the left edge of the frame\n",
    "        # if t.history[-1][0][0] > 100:\n",
    "        #     continue\n",
    "\n",
    "        # Check only the cars with at least 20 tracking updates\n",
    "        if len(t.history) > 1:\n",
    "            # The history of a car x-coordinates\n",
    "            # x_centroids = np.array(t.history)[:,0,2] - np.array(t.history)[:,0,0]\n",
    "            # cv2.circle(frame, (int(x_centroids[-1]), 10), 5, (255, 0, 0), -1)\n",
    "            d = t.history[0][-1]\n",
    "            cv2.rectangle(frame, (int(d[0]), int(d[1])), (int(d[2]), int(d[3])), (255, 0, 0), 5)\n",
    "\n",
    "            # # Calculate the slope of the linear regression of car's x-centroids to determine the direction of the car\n",
    "            # slope, _, _, _, _ = linregress(np.arange(len(x_centroids)), x_centroids)\n",
    "\n",
    "            # # If the slope is negative, the car is going from the right to the left\n",
    "            # if slope < 0:\n",
    "            #     counted_car_ids.add(t.id)\n",
    "\n",
    "\n",
    "    # Draw bounding boxes from the tracking updates\n",
    "    for d in detections:\n",
    "        # Display the bounding box around the detected object\n",
    "        # cv2.rectangle(frame, (int(d[0]), int(d[1])), (int(d[2]), int(d[3])), (0, 255, 0), 2)\n",
    "\n",
    "        # Display the car tracking ID\n",
    "        cv2.putText(frame, f\"Car #{int(d[4])}\", (int(d[0]), int(d[1])), cv2.FONT_HERSHEY_SIMPLEX, 1, (0, 255, 0), 2, cv2.LINE_AA)\n",
    "\n",
    "    cv2.putText(frame, f'Number of cars go to the city centre: {len(counted_car_ids)}', (50, 100), cv2.FONT_HERSHEY_SIMPLEX, 1, (0, 255, 0), 2, cv2.LINE_AA)\n",
    "\n",
    "    # Display the resulting frame\n",
    "    cv2.imshow(\"Cam\", frame)\n",
    "\n",
    "    # Press \"q\" to exit the loop\n",
    "    if cv2.waitKey(1) & 0xFF == ord('q'):\n",
    "        cv2.destroyWindow(\"Cam\")\n",
    "        cv2.waitKey(1)\n",
    "        break"
   ]
  },
  {
   "cell_type": "markdown",
   "metadata": {},
   "source": []
  }
 ],
 "metadata": {
  "kernelspec": {
   "display_name": "base",
   "language": "python",
   "name": "python3"
  },
  "language_info": {
   "codemirror_mode": {
    "name": "ipython",
    "version": 3
   },
   "file_extension": ".py",
   "mimetype": "text/x-python",
   "name": "python",
   "nbconvert_exporter": "python",
   "pygments_lexer": "ipython3",
   "version": "3.11.4"
  },
  "orig_nbformat": 4
 },
 "nbformat": 4,
 "nbformat_minor": 2
}
