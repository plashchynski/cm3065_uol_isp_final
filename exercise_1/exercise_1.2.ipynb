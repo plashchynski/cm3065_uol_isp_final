{
 "cells": [
  {
   "cell_type": "markdown",
   "metadata": {},
   "source": [
    "Reload modules every time before executing the Python code typed:"
   ]
  },
  {
   "cell_type": "code",
   "execution_count": 1,
   "metadata": {},
   "outputs": [],
   "source": [
    "%load_ext autoreload\n",
    "%autoreload 2"
   ]
  },
  {
   "cell_type": "markdown",
   "metadata": {},
   "source": [
    "Install necessary packages:"
   ]
  },
  {
   "cell_type": "code",
   "execution_count": 2,
   "metadata": {},
   "outputs": [
    {
     "name": "stdout",
     "output_type": "stream",
     "text": [
      "Requirement already satisfied: opencv-python in /Users/dima/miniconda3/lib/python3.11/site-packages (4.8.0.76)\n",
      "Requirement already satisfied: numpy in /Users/dima/miniconda3/lib/python3.11/site-packages (1.25.2)\n",
      "Requirement already satisfied: scipy in /Users/dima/miniconda3/lib/python3.11/site-packages (1.11.2)\n",
      "Requirement already satisfied: filterpy==1.4.5 in /Users/dima/miniconda3/lib/python3.11/site-packages (1.4.5)\n",
      "Requirement already satisfied: matplotlib in /Users/dima/miniconda3/lib/python3.11/site-packages (from filterpy==1.4.5) (3.7.2)\n",
      "Requirement already satisfied: contourpy>=1.0.1 in /Users/dima/miniconda3/lib/python3.11/site-packages (from matplotlib->filterpy==1.4.5) (1.1.0)\n",
      "Requirement already satisfied: cycler>=0.10 in /Users/dima/miniconda3/lib/python3.11/site-packages (from matplotlib->filterpy==1.4.5) (0.11.0)\n",
      "Requirement already satisfied: fonttools>=4.22.0 in /Users/dima/miniconda3/lib/python3.11/site-packages (from matplotlib->filterpy==1.4.5) (4.42.1)\n",
      "Requirement already satisfied: kiwisolver>=1.0.1 in /Users/dima/miniconda3/lib/python3.11/site-packages (from matplotlib->filterpy==1.4.5) (1.4.5)\n",
      "Requirement already satisfied: packaging>=20.0 in /Users/dima/miniconda3/lib/python3.11/site-packages (from matplotlib->filterpy==1.4.5) (23.0)\n",
      "Requirement already satisfied: pillow>=6.2.0 in /Users/dima/miniconda3/lib/python3.11/site-packages (from matplotlib->filterpy==1.4.5) (10.0.0)\n",
      "Requirement already satisfied: pyparsing<3.1,>=2.3.1 in /Users/dima/miniconda3/lib/python3.11/site-packages (from matplotlib->filterpy==1.4.5) (3.0.9)\n",
      "Requirement already satisfied: python-dateutil>=2.7 in /Users/dima/miniconda3/lib/python3.11/site-packages (from matplotlib->filterpy==1.4.5) (2.8.2)\n",
      "Requirement already satisfied: six>=1.5 in /Users/dima/miniconda3/lib/python3.11/site-packages (from python-dateutil>=2.7->matplotlib->filterpy==1.4.5) (1.16.0)\n",
      "Note: you may need to restart the kernel to use updated packages.\n"
     ]
    }
   ],
   "source": [
    "%pip install opencv-python numpy scipy filterpy==1.4.5"
   ]
  },
  {
   "cell_type": "markdown",
   "metadata": {},
   "source": [
    "# Task 1 (exercise 1.2)"
   ]
  },
  {
   "cell_type": "markdown",
   "metadata": {},
   "source": [
    "Import necessary packages:"
   ]
  },
  {
   "cell_type": "code",
   "execution_count": 17,
   "metadata": {},
   "outputs": [],
   "source": [
    "import cv2\n",
    "import numpy as np\n",
    "from scipy.stats import linregress\n",
    "\n",
    "import time\n",
    "import sys\n",
    "sys.path.append('./')\n",
    "\n",
    "from sort import Sort"
   ]
  },
  {
   "cell_type": "markdown",
   "metadata": {},
   "source": [
    "The higher the value, the bigger a moving object should be to be detected"
   ]
  },
  {
   "cell_type": "code",
   "execution_count": 4,
   "metadata": {},
   "outputs": [],
   "source": [
    "MIN_CONTOUR_AREA = 4000"
   ]
  },
  {
   "cell_type": "code",
   "execution_count": 19,
   "metadata": {},
   "outputs": [],
   "source": [
    "class Tracker:\n",
    "    class TrackingObject:\n",
    "        def __init__(self, contour, tracking_id, ttl) -> None:\n",
    "            self.contour = contour\n",
    "            self.centroid = Tracker.calc_centroid(contour)\n",
    "            self.tracking_id = tracking_id\n",
    "            self.ttl = ttl\n",
    "            \n",
    "\n",
    "    def __init__(self, proximity_threshold = 20, object_ttl = 10) -> None:\n",
    "        self.objects = []\n",
    "        self.last_tracking_id = 0\n",
    "        self.proximity_threshold = proximity_threshold\n",
    "        self.object_ttl = object_ttl\n",
    "\n",
    "    @classmethod\n",
    "    def calc_centroid(cls, contour):\n",
    "        \"\"\"\n",
    "        Calculates the centroid of a contour.\n",
    "        \"\"\"\n",
    "        M = cv2.moments(contour)\n",
    "        if M[\"m00\"] == 0:\n",
    "            # Avoid division by zero\n",
    "            return None\n",
    "\n",
    "        cX = int(M[\"m10\"] / M[\"m00\"])\n",
    "        cY = int(M[\"m01\"] / M[\"m00\"])\n",
    "\n",
    "        return (cX, cY)\n",
    "\n",
    "    def update(self, contours):\n",
    "        \"\"\"\n",
    "        Updates the tracker with a new frame information: contours and centroids.\n",
    "        \"\"\"\n",
    "        original_contours = contours.copy()\n",
    "        contours = contours.copy()\n",
    "\n",
    "        # Find the closest object to each contour centroid\n",
    "        for i, contour in enumerate(contours):\n",
    "            # Find the centroid of each contour\n",
    "            centroid = Tracker.calc_centroid(contour)\n",
    "\n",
    "            if centroid is None:\n",
    "                continue\n",
    "\n",
    "            # Find the closest object to the centroid\n",
    "            closest_object = None\n",
    "            closest_distance = float('inf')\n",
    "            for obj in self.objects:\n",
    "                distance = np.linalg.norm(np.array(obj.centroid) - np.array(centroid))\n",
    "                if distance < closest_distance:\n",
    "                    closest_object = obj\n",
    "                    closest_distance = distance\n",
    "\n",
    "            # If the closest object is close enough, update it\n",
    "            if closest_distance < self.proximity_threshold:\n",
    "                closest_object.centroid = centroid\n",
    "                # Remove the centroid from the list\n",
    "                contours[i] = None\n",
    "        \n",
    "        # Add the remaining contours as new objects\n",
    "        for contour in contours:\n",
    "            if contour is None:\n",
    "                continue\n",
    "\n",
    "            for object in self.objects:\n",
    "                # If the contour is already have any object, skip it\n",
    "                if cv2.pointPolygonTest(contour, object.centroid, False) > 0:\n",
    "                    break\n",
    "            else:\n",
    "                # Please note that the first object will have ID 1 will be the whole frame\n",
    "                self.last_tracking_id = self.last_tracking_id + 1\n",
    "                print(f\"Create a new object with ID: {self.last_tracking_id}\")\n",
    "                self.objects.append(Tracker.TrackingObject(contour, self.last_tracking_id, self.object_ttl))\n",
    "\n",
    "        # Remove objects that are not covered by any contour\n",
    "        for obj in self.objects:\n",
    "            for contour in original_contours:\n",
    "                if cv2.pointPolygonTest(contour, obj.centroid, False) > 0:\n",
    "                    break\n",
    "            else:\n",
    "                obj.ttl -= 1\n",
    "                if obj.ttl <= 0:\n",
    "                    print(f\"Remove object {obj.tracking_id}\")\n",
    "                    self.objects.remove(obj)\n"
   ]
  },
  {
   "cell_type": "code",
   "execution_count": 20,
   "metadata": {},
   "outputs": [
    {
     "name": "stdout",
     "output_type": "stream",
     "text": [
      "Create a new object with ID: 1\n",
      "Remove object 1\n",
      "Create a new object with ID: 2\n",
      "Create a new object with ID: 3\n",
      "Create a new object with ID: 4\n",
      "Remove object 4\n",
      "Create a new object with ID: 5\n",
      "Remove object 5\n"
     ]
    }
   ],
   "source": [
    "# Open the sample video file:\n",
    "video = cv2.VideoCapture(\"Traffic_Laramie_1.mp4\")\n",
    "\n",
    "# Ensure that the file was opened correctly:\n",
    "assert video.isOpened(), \"Can't open the video file\"\n",
    "\n",
    "# Initialize an instance of [Gaussian Mixture-based Background/Foreground Segmentation Algorithm](https://docs.opencv.org/3.4/d7/d7b/classcv_1_1BackgroundSubtractorMOG2.html):\n",
    "bg_subtractor = cv2.createBackgroundSubtractorKNN(detectShadows=False, history=10000, dist2Threshold=800)\n",
    "\n",
    "# Instantiate the tracker\n",
    "tracker = Tracker()\n",
    "\n",
    "cv2.namedWindow(\"Cam\")\n",
    "\n",
    "counted_car_ids = set()\n",
    "\n",
    "# Read the video frame by frame:\n",
    "while True:\n",
    "    ret, frame = video.read()\n",
    "\n",
    "    # Check for the last frame\n",
    "    if not ret:\n",
    "        break\n",
    "\n",
    "    # blur the frame to remove noise\n",
    "    blured_frame = cv2.GaussianBlur(frame, (5,5), 0)\n",
    "\n",
    "    # Apply the background subtraction algorithm:\n",
    "    fg_mask = bg_subtractor.apply(blured_frame)\n",
    "\n",
    "    # Apply morphological operations to remove corruptions:\n",
    "    _, thresh = cv2.threshold(fg_mask, 25, 255, cv2.THRESH_BINARY)\n",
    "    kernel = cv2.getStructuringElement(cv2.MORPH_ELLIPSE, (5, 5))\n",
    "    thresh = cv2.morphologyEx(thresh, cv2.MORPH_CLOSE, kernel, iterations=2)\n",
    "\n",
    "    # Find the contours of the detected objects:\n",
    "    contours, _ = cv2.findContours(thresh, cv2.RETR_EXTERNAL, cv2.CHAIN_APPROX_SIMPLE)\n",
    "\n",
    "    # Filter out the contours that are too small to be a car:\n",
    "    contours = [c for c in contours if cv2.contourArea(c) > MIN_CONTOUR_AREA]\n",
    "\n",
    "    # Convex hull to get clean contours without holes:\n",
    "    contours = [cv2.convexHull(c) for c in contours]\n",
    "\n",
    "    # Draw the contours on the original image:\n",
    "    cv2.drawContours(frame, contours, -1, (0, 255, 0), 2)\n",
    "\n",
    "    # Draw tracking objects:\n",
    "    for obj in tracker.objects:\n",
    "        cv2.putText(frame, f\"Car #{obj.tracking_id}\", obj.centroid, cv2.FONT_HERSHEY_SIMPLEX, 0.5, (0, 255, 0), 2)\n",
    "        cv2.circle(frame, obj.centroid, 2, (0, 0, 255), -1)\n",
    "\n",
    "    # Update the tracker with contours and centroids:\n",
    "    tracker.update(contours)\n",
    "\n",
    "    # Display the resulting frame\n",
    "    cv2.imshow(\"Cam\", frame)\n",
    "\n",
    "    # Slow down the video for debugging purposes \n",
    "    # time.sleep(0.1)\n",
    "\n",
    "    # Press \"q\" to exit the loop\n",
    "    if (cv2.waitKey(1) & 0xFF == ord('q')):\n",
    "        cv2.destroyWindow(\"Cam\")\n",
    "        cv2.waitKey(1)\n",
    "        break"
   ]
  },
  {
   "cell_type": "markdown",
   "metadata": {},
   "source": []
  }
 ],
 "metadata": {
  "kernelspec": {
   "display_name": "base",
   "language": "python",
   "name": "python3"
  },
  "language_info": {
   "codemirror_mode": {
    "name": "ipython",
    "version": 3
   },
   "file_extension": ".py",
   "mimetype": "text/x-python",
   "name": "python",
   "nbconvert_exporter": "python",
   "pygments_lexer": "ipython3",
   "version": "3.11.4"
  },
  "orig_nbformat": 4
 },
 "nbformat": 4,
 "nbformat_minor": 2
}
